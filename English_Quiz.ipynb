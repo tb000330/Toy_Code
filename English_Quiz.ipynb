{
 "cells": [
  {
   "cell_type": "code",
   "execution_count": 2,
   "id": "173f0632",
   "metadata": {},
   "outputs": [],
   "source": [
    "import os\n",
    "import io\n",
    "import random\n",
    "import numpy as np\n",
    "import pandas as pd\n",
    "\n",
    "\n",
    "# col = pd.read_csv(\"영어단어장_주소.csv\", encoding='UTF-8').fillna('없음')\n",
    "# # print(col.head())\n",
    "# col"
   ]
  },
  {
   "cell_type": "code",
   "execution_count": null,
   "id": "d3cd99ee",
   "metadata": {},
   "outputs": [],
   "source": [
    "col['random']=np.random.choice(col['word'], size=len(col['word']), replace=False)\n",
    "\n",
    "for j in range(1,len(col['word'])):\n",
    "        i=0\n",
    "        j=1\n",
    "        while (i < len(col['word'])):  \n",
    "                print(\"  {}번\".format(j)) \n",
    "                print(\"    \", col['random'][i])\n",
    "                ans = input(\"     \")\n",
    "                confirm1 = col[col['mean1'].str.contains(ans)]\n",
    "                compare1 = confirm1['mean1'].tolist()\n",
    "                confirm2 = col[col['mean2'].str.contains(ans)]\n",
    "                compare2 = confirm2['mean2'].tolist()\n",
    "                print(\"----------------------------------------------------------\")\n",
    "                \n",
    "                if ans in compare1 or ans in compare2:\n",
    "                     print(\"     정답!\")\n",
    "                else:\n",
    "                     print(\"     오답!^^\")\n",
    "                print(\"=========================================================\")\n",
    "                    \n",
    "                j += 1\n",
    "                i += 1  \n"
   ]
  }
 ],
 "metadata": {
  "kernelspec": {
   "display_name": "Python 3 (ipykernel)",
   "language": "python",
   "name": "python3"
  },
  "language_info": {
   "codemirror_mode": {
    "name": "ipython",
    "version": 3
   },
   "file_extension": ".py",
   "mimetype": "text/x-python",
   "name": "python",
   "nbconvert_exporter": "python",
   "pygments_lexer": "ipython3",
   "version": "3.9.12"
  }
 },
 "nbformat": 4,
 "nbformat_minor": 5
}
